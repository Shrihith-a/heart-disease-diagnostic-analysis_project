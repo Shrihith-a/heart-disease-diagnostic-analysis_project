{
 "cells": [
  {
   "attachments": {},
   "cell_type": "markdown",
   "metadata": {},
   "source": [
    "# <h1 style=\"font-family: Trebuchet MS; padding: 12px; font-size: 48px; color: #BA1141; text-align: center; line-height: 1.25;\"><b>💔🔮 Heart Disease<span style=\"color: #0000FF \"> EDA 🔮💔</span></b><br><span style=\"color: #FF5C8A; font-size: 24px\">By Shrihith A </span></h1>"
   ]
  },
  {
   "attachments": {},
   "cell_type": "markdown",
   "metadata": {},
   "source": [
    "# <div style=\"font-family: Trebuchet MS; background-color: #8A0030; color: #FFFFFF; padding: 12px; line-height: 1.5;;text-align:center\">💔 | EDA for Heart Disease Prediction - Shrihith A | 👋</div>\n"
   ]
  },
  {
   "attachments": {},
   "cell_type": "markdown",
   "metadata": {},
   "source": [
    "<div style=\"background-color:#8A0030;padding:10px;border-radius: 10px;margin:10px;color:#FFFFFF;font-family:newtimeroman;font-size:100%;text-align:left;\">\n",
    "    <strong>1 | Problem Statement</strong>\n",
    "</div>\n"
   ]
  },
  {
   "attachments": {},
   "cell_type": "markdown",
   "metadata": {},
   "source": [
    "- Health is real wealth in the pandemic time we all realized the brute effects of covid-19 on all irrespective of any status. You are required to analyze this health and medical data for better future preparation.\n",
    "- Do ETL : Extract- Transform and Load data from heart disease diagnostic database You can perform EDA through python.\n",
    "- From the database extract various information such as Heart disease rates, Heart disease by gender, by age.\n",
    "- You can even compare attributes of the data set to extract necessary information.\n",
    "- Make the necessary dashboard with the best you can extract from the data. Use various visualization and features and make the best dashboard\n",
    "- Find key metrics and factors and show the meaningful relationships between Attributes. Do your own research and come up with your findings."
   ]
  },
  {
   "attachments": {},
   "cell_type": "markdown",
   "metadata": {},
   "source": [
    "<div style=\"background-color:#8A0030;padding:10px;border-radius: 10px;margin:10px;color:#FFFFFF;font-family:newtimeroman;font-size:100%;text-align:left;\">\n",
    "    <strong>2 | Dataset</strong>\n",
    "</div>"
   ]
  },
  {
   "attachments": {},
   "cell_type": "markdown",
   "metadata": {},
   "source": [
    "#### This database contains 76 attributes, but all published experiments refer to using a subset of 14 of them.\n",
    "\n",
    "- `age`: age in years\n",
    "- `sex`: sex (1 = male; 0 = female)\n",
    "- `cp`: chest pain type\n",
    "    - -- Value 1: typical angina\n",
    "    - -- Value 2: atypical angina\n",
    "    - -- Value 3: non-anginal pain\n",
    "    - -- Value 4: asymptomatic\n",
    "- `trestbps`: resting blood pressure (in mm Hg on admission to the hospital)\n",
    "- `chol`: serum cholesterol in mg/dl\n",
    "- `fbs`: (fasting blood sugar > 120 mg/dl) (1 = true; 0 = false)\n",
    "- `restecg`: resting electrocardiographic results\n",
    "    - -- Value 0: normal\n",
    "    - -- Value 1: having ST-T wave abnormality (T wave inversions and/or ST elevation or depression of > 0.05 mV)\n",
    "    - -- Value 2: showing probable or definite left ventricular hypertrophy by Estes' criteria\n",
    "- `thalach`: maximum heart rate achieved\n",
    "- `exang`: exercise induced angina (1 = yes; 0 = no)\n",
    "- `oldpeak` = ST depression induced by exercise relative to rest\n",
    "- `slope`: the slope of the peak exercise ST segment\n",
    "    - -- Value 1: up sloping\n",
    "    - -- Value 2: flat\n",
    "    - -- Value 3: down sloping\n",
    "- `ca`: number of major vessels (0-3) colored by flourosopy\n",
    "- `thal`: 3 = normal; 6 = fixed defect; 7 = reversable defect\n",
    "\n",
    "Target \n",
    "- `num`: diagnosis of heart disease (angiographic disease status) \n",
    "    - -- Value 0: < 50% diameter narrowing\n",
    "    - -- Value 1: > 50% diameter narrowing\n",
    "\n",
    "Source\n",
    "- `link` : https://data.world/uci/heart-disease"
   ]
  },
  {
   "cell_type": "code",
   "execution_count": null,
   "metadata": {},
   "outputs": [],
   "source": []
  }
 ],
 "metadata": {
  "language_info": {
   "name": "python"
  },
  "orig_nbformat": 4
 },
 "nbformat": 4,
 "nbformat_minor": 2
}
